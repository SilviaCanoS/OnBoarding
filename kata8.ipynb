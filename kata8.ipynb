{
 "cells": [
  {
   "cell_type": "markdown",
   "metadata": {},
   "source": [
    "# Creación de diccionarios"
   ]
  },
  {
   "cell_type": "code",
   "execution_count": 11,
   "metadata": {},
   "outputs": [
    {
     "name": "stdout",
     "output_type": "stream",
     "text": [
      "Mars has 2 moons\n",
      "Mars's circumference in km is: polar = 6752 and equatorial = 6792\n"
     ]
    }
   ],
   "source": [
    "planet = {'name': 'Mars', 'moons': 2}\n",
    "print(f\"{planet.get('name')} has {planet.get('moons')} moons\")\n",
    "planet['circumference (km)'] = {'polar': 6752, 'equatorial': 6792}\n",
    "print(f\"{planet.get('name')}'s circumference in km is: polar = {planet['circumference (km)']['polar']} and equatorial = {planet['circumference (km)']['equatorial']}\")\n"
   ]
  },
  {
   "cell_type": "markdown",
   "metadata": {},
   "source": [
    "# Programación dinámica con diccionarios"
   ]
  },
  {
   "cell_type": "code",
   "execution_count": 16,
   "metadata": {},
   "outputs": [
    {
     "name": "stdout",
     "output_type": "stream",
     "text": [
      "El promedio de lunas por cada planeta es de 17.833333333333332\n"
     ]
    }
   ],
   "source": [
    "planet_moons = {'mercury': 0, 'venus': 0, 'earth': 1, 'mars': 2, 'jupiter': 79, 'saturn': 82, 'uranus': 27, 'neptune': 14, 'pluto': 5, 'haumea': 2, 'makemake': 1, 'eris': 1}\n",
    "moons = []\n",
    "prom = 0\n",
    "\n",
    "for value in planet_moons.values():\n",
    "    prom = prom + value\n",
    "    moons.append(value)\n",
    "\n",
    "prom = prom / len(moons)\n",
    "print(f'El promedio de lunas por cada planeta es de {prom}')"
   ]
  }
 ],
 "metadata": {
  "interpreter": {
   "hash": "b48c67ef1865a97a38f69cfba8e96ae9dd8bdab97f941627bcf1b84376bbf10e"
  },
  "kernelspec": {
   "display_name": "Python 3.10.2 64-bit",
   "language": "python",
   "name": "python3"
  },
  "language_info": {
   "codemirror_mode": {
    "name": "ipython",
    "version": 3
   },
   "file_extension": ".py",
   "mimetype": "text/x-python",
   "name": "python",
   "nbconvert_exporter": "python",
   "pygments_lexer": "ipython3",
   "version": "3.10.2"
  },
  "orig_nbformat": 4
 },
 "nbformat": 4,
 "nbformat_minor": 2
}
