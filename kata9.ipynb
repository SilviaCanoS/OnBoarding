{
 "cells": [
  {
   "cell_type": "markdown",
   "metadata": {},
   "source": [
    "# Uso de funciones"
   ]
  },
  {
   "cell_type": "code",
   "execution_count": 6,
   "metadata": {},
   "outputs": [
    {
     "name": "stdout",
     "output_type": "stream",
     "text": [
      "El promedio de combustible en cada tanque es de 30.0\n",
      "El tanque 1 tiene 20 litros\n",
      "El tanque 2 tiene 30 litros\n",
      "El tanque 3 tiene 40 litros\n"
     ]
    }
   ],
   "source": [
    "def promedio (prom):\n",
    "    print(f'El promedio de combustible en cada tanque es de {prom/3}')\n",
    "\n",
    "def tanques(gas1, gas2, gas3):\n",
    "    promedio(gas1 + gas2 + gas3)\n",
    "    print(f'El tanque 1 tiene {gas1} litros')\n",
    "    print(f'El tanque 2 tiene {gas2} litros')\n",
    "    print(f'El tanque 3 tiene {gas3} litros')\n",
    "\n",
    "tanques(20, 30, 40)"
   ]
  },
  {
   "cell_type": "markdown",
   "metadata": {},
   "source": [
    "# Trabajo con argumentos de palabra clave"
   ]
  },
  {
   "cell_type": "code",
   "execution_count": 12,
   "metadata": {},
   "outputs": [
    {
     "name": "stdout",
     "output_type": "stream",
     "text": [
      "Información sobre el cohete:\n",
      "Hora de prelanzamiento: 15:20\n",
      "Tiempo de vuelo: 20 horas\n",
      "Destino: Marte\n",
      "Tanque externo: 50 litros\n",
      "Tanque interno: 100 litros\n"
     ]
    }
   ],
   "source": [
    "def informe(prelanzamiento, tiempo, destino, externo, interno):\n",
    "    print('Información sobre el cohete:')\n",
    "    print(f'Hora de prelanzamiento: {prelanzamiento}')\n",
    "    print(f'Tiempo de vuelo: {tiempo} horas')\n",
    "    print(f'Destino: {destino}')\n",
    "    print(f'Tanque externo: {externo} litros')\n",
    "    print(f'Tanque interno: {interno} litros')\n",
    "\n",
    "informe('15:20', 20, 'Marte', 50, 100)"
   ]
  },
  {
   "cell_type": "code",
   "execution_count": 14,
   "metadata": {},
   "outputs": [
    {
     "name": "stdout",
     "output_type": "stream",
     "text": [
      "Información sobre el cohete:\n",
      "Destino: Marte\n",
      "Tiempo de vuelo: 12 horas\n",
      "Combustible: 150 litros\n"
     ]
    }
   ],
   "source": [
    "def informe2(destino, *tiempo, **gas):\n",
    "    print('Información sobre el cohete:')\n",
    "    print(f'Destino: {destino}')\n",
    "    print(f'Tiempo de vuelo: {sum(tiempo)} horas')\n",
    "    print(f'Combustible: {sum(gas.values())} litros')\n",
    "\n",
    "informe2(\"Marte\", 3, 4, 5, externo = 50, interno = 100)"
   ]
  },
  {
   "cell_type": "code",
   "execution_count": 16,
   "metadata": {},
   "outputs": [
    {
     "name": "stdout",
     "output_type": "stream",
     "text": [
      "Información sobre el cohete:\n",
      "Destino: Marte\n",
      "Tiempo de vuelo: 12 horas\n",
      "Combustible en el tanque externo: 50 litros\n",
      "Combustible en el tanque interno: 100 litros\n"
     ]
    }
   ],
   "source": [
    "def informe3(destino, *tiempo, **gas):\n",
    "    print('Información sobre el cohete:')\n",
    "    print(f'Destino: {destino}')\n",
    "    print(f'Tiempo de vuelo: {sum(tiempo)} horas')\n",
    "\n",
    "    for tanque, litros in gas.items():\n",
    "        print(f'Combustible en el tanque {tanque}: {litros} litros')\n",
    "\n",
    "informe3(\"Marte\", 3, 4, 5, externo = 50, interno = 100)"
   ]
  }
 ],
 "metadata": {
  "interpreter": {
   "hash": "b48c67ef1865a97a38f69cfba8e96ae9dd8bdab97f941627bcf1b84376bbf10e"
  },
  "kernelspec": {
   "display_name": "Python 3.10.2 64-bit",
   "language": "python",
   "name": "python3"
  },
  "language_info": {
   "codemirror_mode": {
    "name": "ipython",
    "version": 3
   },
   "file_extension": ".py",
   "mimetype": "text/x-python",
   "name": "python",
   "nbconvert_exporter": "python",
   "pygments_lexer": "ipython3",
   "version": "3.10.2"
  },
  "orig_nbformat": 4
 },
 "nbformat": 4,
 "nbformat_minor": 2
}
