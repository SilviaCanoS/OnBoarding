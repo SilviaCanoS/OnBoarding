{
 "cells": [
  {
   "cell_type": "markdown",
   "metadata": {},
   "source": [
    "# Utilizar operadores aritmeticos"
   ]
  },
  {
   "cell_type": "code",
   "execution_count": 3,
   "metadata": {},
   "outputs": [
    {
     "name": "stdout",
     "output_type": "stream",
     "text": [
      "Distancia entre la Tierra y Jupiter: 628949330 km\n",
      "Distancia entre la Tierra y Jupiter: 390577533.93 millas\n"
     ]
    }
   ],
   "source": [
    "tierraKm = 149597870\n",
    "jupiterKm = 778547200\n",
    "distanciaKm = abs(tierraKm - jupiterKm)\n",
    "print(f'Distancia entre la Tierra y Jupiter: {distanciaKm} km')\n",
    "print(f'Distancia entre la Tierra y Jupiter: {distanciaKm * 0.621} millas')\n"
   ]
  },
  {
   "cell_type": "markdown",
   "metadata": {},
   "source": [
    "# Convierte cadenas en números y usa valores absolutos"
   ]
  },
  {
   "cell_type": "code",
   "execution_count": 5,
   "metadata": {},
   "outputs": [
    {
     "name": "stdout",
     "output_type": "stream",
     "text": [
      "Distancia entre los planetas: 50300000 km\n",
      "Distancia entre los planetas: 31236300.0 millas\n"
     ]
    }
   ],
   "source": [
    "planeta1Km = int(input('¿Cual es la distancia del primer planeta al Sol? '))\n",
    "planeta2Km = int(input('¿Cual es la distancia del segundo plneta al Sol? '))\n",
    "distanciaKm = abs(planeta1Km - planeta2Km)\n",
    "print(f'Distancia entre los planetas: {distanciaKm} km')\n",
    "print(f'Distancia entre los planetas: {distanciaKm * 0.621} millas')"
   ]
  }
 ],
 "metadata": {
  "interpreter": {
   "hash": "b48c67ef1865a97a38f69cfba8e96ae9dd8bdab97f941627bcf1b84376bbf10e"
  },
  "kernelspec": {
   "display_name": "Python 3.10.2 64-bit",
   "language": "python",
   "name": "python3"
  },
  "language_info": {
   "codemirror_mode": {
    "name": "ipython",
    "version": 3
   },
   "file_extension": ".py",
   "mimetype": "text/x-python",
   "name": "python",
   "nbconvert_exporter": "python",
   "pygments_lexer": "ipython3",
   "version": "3.10.2"
  },
  "orig_nbformat": 4
 },
 "nbformat": 4,
 "nbformat_minor": 2
}
