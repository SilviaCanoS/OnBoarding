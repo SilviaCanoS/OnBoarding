{
 "cells": [
  {
   "cell_type": "markdown",
   "metadata": {},
   "source": [
    "# Crear y usar listas de Python"
   ]
  },
  {
   "cell_type": "code",
   "execution_count": 3,
   "metadata": {},
   "outputs": [
    {
     "name": "stdout",
     "output_type": "stream",
     "text": [
      "['Mercurio', 'Venus', 'Tierra', 'Marte', 'Jupiter', 'Saturno', 'Urano', 'Neptuno']\n",
      "Hay 9 planetas, el ultimo es Pluton\n"
     ]
    }
   ],
   "source": [
    "planetas = ['Mercurio', 'Venus', 'Tierra', 'Marte', 'Jupiter', 'Saturno', 'Urano', 'Neptuno']\n",
    "print(planetas)\n",
    "\n",
    "planetas.append('Pluton')\n",
    "print(f'Hay {len(planetas)} planetas, el ultimo es {planetas[-1]}')"
   ]
  },
  {
   "cell_type": "markdown",
   "metadata": {},
   "source": [
    "# Trabajando con datos de una lista"
   ]
  },
  {
   "cell_type": "code",
   "execution_count": 7,
   "metadata": {},
   "outputs": [
    {
     "name": "stdout",
     "output_type": "stream",
     "text": [
      "Los planetas mas cercanos al Sol antes que Tierra son ['Mercurio', 'Venus']\n",
      "Los planetas mas alejados del Sol luego de Tierra son ['Marte', 'Jupiter', 'Saturno', 'Urano', 'Neptuno']\n"
     ]
    }
   ],
   "source": [
    "planetas = ['Mercurio', 'Venus', 'Tierra', 'Marte', 'Jupiter', 'Saturno', 'Urano', 'Neptuno']\n",
    "usuario = input('Escoja un planeta (la primera letra mayuscula):')\n",
    "indice = planetas.index(usuario)\n",
    "print(f'Los planetas mas cercanos al Sol antes que {usuario} son {planetas[:indice]}')\n",
    "print(f'Los planetas mas alejados del Sol luego de {usuario} son {planetas[indice + 1:]}')"
   ]
  }
 ],
 "metadata": {
  "interpreter": {
   "hash": "b48c67ef1865a97a38f69cfba8e96ae9dd8bdab97f941627bcf1b84376bbf10e"
  },
  "kernelspec": {
   "display_name": "Python 3.10.2 64-bit",
   "language": "python",
   "name": "python3"
  },
  "language_info": {
   "codemirror_mode": {
    "name": "ipython",
    "version": 3
   },
   "file_extension": ".py",
   "mimetype": "text/x-python",
   "name": "python",
   "nbconvert_exporter": "python",
   "pygments_lexer": "ipython3",
   "version": "3.10.2"
  },
  "orig_nbformat": 4
 },
 "nbformat": 4,
 "nbformat_minor": 2
}
