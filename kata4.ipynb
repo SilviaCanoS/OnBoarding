{
 "cells": [
  {
   "cell_type": "markdown",
   "metadata": {},
   "source": [
    "# Transformar cadenas"
   ]
  },
  {
   "cell_type": "code",
   "execution_count": 8,
   "metadata": {},
   "outputs": [
    {
     "name": "stdout",
     "output_type": "stream",
     "text": [
      " \n",
      "On average, the Moon moves 4cm away from the Earth every year\n",
      " The highest daylight temperature of the Moon is 127 Celsius\n"
     ]
    }
   ],
   "source": [
    "text = \"\"\"Interesting facts about the Moon. The Moon is Earth's only satellite. There are several interesting facts about the Moon and how it affects life here on Earth. \n",
    "On average, the Moon moves 4cm away from the Earth every year. This yearly drift is not significant enough to cause immediate effects on Earth. The highest daylight temperature of the Moon is 127 C.\"\"\"\n",
    "\n",
    "oraciones = text.split('.')\n",
    "claves = ['average', 'temperature', 'distance']\n",
    "hechos = []\n",
    "for itemOracion in oraciones:\n",
    "    for itemClave in claves:\n",
    "        if itemClave in itemOracion:\n",
    "            hechos.append(itemOracion.replace('C', 'Celsius'))\n",
    "\n",
    "print('\\n'.join(hechos))"
   ]
  },
  {
   "cell_type": "markdown",
   "metadata": {},
   "source": [
    "# Formatear cadenas"
   ]
  },
  {
   "cell_type": "code",
   "execution_count": 40,
   "metadata": {},
   "outputs": [
    {
     "name": "stdout",
     "output_type": "stream",
     "text": [
      "\n",
      "Gravity Facts About Moon\n",
      "-------------------------------------------------------------------------------\n",
      "Planet name: Earth \n",
      "Gravity on Moon: 1.6199999999999999 m/s2\n",
      "\n",
      "Gravity Facts About Ganímedes \n",
      "-------------------------------------------------------------------------------\n",
      "Planet name: Marte  \n",
      "Gravity on Ganímedes: 1.4300000000000002 m/s2\n"
     ]
    }
   ],
   "source": [
    "name = \"Moon\"\n",
    "gravity = 0.00162 # in kms\n",
    "planet = \"Earth\"\n",
    "titulo = f'\\ngravity facts about {name}'.title()\n",
    "inf = f'Planet name: {planet} \\nGravity on {name}: {gravity * 1000} m/s2'\n",
    "plantilla = titulo + '\\n-------------------------------------------------------------------------------\\n' + inf\n",
    "print(plantilla)\n",
    "\n",
    "planeta = 'Marte '\n",
    "gravedad  = 0.00143 \n",
    "nombre = 'Ganímedes'\n",
    "nPlantilla = '\\nGravity Facts About {nombre} \\n-------------------------------------------------------------------------------\\nPlanet name: {planeta} \\nGravity on {nombre}: {gravedad} m/s2'\n",
    "print(nPlantilla.format(nombre=nombre, planeta=planeta, gravedad=gravedad * 1000))\n"
   ]
  }
 ],
 "metadata": {
  "interpreter": {
   "hash": "b48c67ef1865a97a38f69cfba8e96ae9dd8bdab97f941627bcf1b84376bbf10e"
  },
  "kernelspec": {
   "display_name": "Python 3.10.2 64-bit",
   "language": "python",
   "name": "python3"
  },
  "language_info": {
   "codemirror_mode": {
    "name": "ipython",
    "version": 3
   },
   "file_extension": ".py",
   "mimetype": "text/x-python",
   "name": "python",
   "nbconvert_exporter": "python",
   "pygments_lexer": "ipython3",
   "version": "3.10.2"
  },
  "orig_nbformat": 4
 },
 "nbformat": 4,
 "nbformat_minor": 2
}
