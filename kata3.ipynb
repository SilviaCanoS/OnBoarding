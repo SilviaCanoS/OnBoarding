{
 "cells": [
  {
   "cell_type": "markdown",
   "metadata": {},
   "source": [
    "# Asteroide"
   ]
  },
  {
   "cell_type": "code",
   "execution_count": 1,
   "metadata": {},
   "outputs": [
    {
     "name": "stdout",
     "output_type": "stream",
     "text": [
      "Advertencia: Riesgo de impacto de asteroide contra la Tierra\n"
     ]
    }
   ],
   "source": [
    "velocidad = 49\n",
    "if velocidad > 25:\n",
    "    print('Advertencia: Riesgo de impacto de asteroide contra la Tierra')\n",
    "else:\n",
    "    print('El asteroide no representa peligro para la Tierra')\n"
   ]
  },
  {
   "cell_type": "markdown",
   "metadata": {},
   "source": [
    "# Rayo de luz"
   ]
  },
  {
   "cell_type": "code",
   "execution_count": 2,
   "metadata": {},
   "outputs": [
    {
     "name": "stdout",
     "output_type": "stream",
     "text": [
      "No hay ningun asteroide visible\n"
     ]
    }
   ],
   "source": [
    "velocidad = 19\n",
    "if velocidad >= 20:\n",
    "    print('¿Puedes ver el rayo de luz que deja el asteroide?')\n",
    "else:\n",
    "    print('No hay ningun asteroide visible')"
   ]
  },
  {
   "cell_type": "markdown",
   "metadata": {},
   "source": [
    "# Sistema de Advertencia"
   ]
  },
  {
   "cell_type": "code",
   "execution_count": 6,
   "metadata": {},
   "outputs": [
    {
     "name": "stdout",
     "output_type": "stream",
     "text": [
      "¿Puedes ver el rayo de luz que deja el asteroide?\n"
     ]
    }
   ],
   "source": [
    "velocidad = 24\n",
    "tamanio = 35\n",
    "\n",
    "if velocidad > 25 and tamanio >= 25 and tamanio < 1000:\n",
    "    print('Advertencia: Riesgo de impacto de asteroide muy grande contra la Tierra')\n",
    "elif velocidad >= 20:\n",
    "    print('¿Puedes ver el rayo de luz que deja el asteroide?')\n",
    "else:\n",
    "    print('El asteroide no representa peligro para la Tierra')\n"
   ]
  }
 ],
 "metadata": {
  "interpreter": {
   "hash": "b48c67ef1865a97a38f69cfba8e96ae9dd8bdab97f941627bcf1b84376bbf10e"
  },
  "kernelspec": {
   "display_name": "Python 3.10.2 64-bit",
   "language": "python",
   "name": "python3"
  },
  "language_info": {
   "codemirror_mode": {
    "name": "ipython",
    "version": 3
   },
   "file_extension": ".py",
   "mimetype": "text/x-python",
   "name": "python",
   "nbconvert_exporter": "python",
   "pygments_lexer": "ipython3",
   "version": "3.10.2"
  },
  "orig_nbformat": 4
 },
 "nbformat": 4,
 "nbformat_minor": 2
}
